{
 "cells": [
  {
   "cell_type": "markdown",
   "metadata": {},
   "source": [
    "# Preprocessing"
   ]
  },
  {
   "cell_type": "code",
   "execution_count": 2,
   "metadata": {
    "execution": {
     "iopub.execute_input": "2022-08-18T17:34:28.059468Z",
     "iopub.status.busy": "2022-08-18T17:34:28.058787Z",
     "iopub.status.idle": "2022-08-18T17:34:28.071551Z",
     "shell.execute_reply": "2022-08-18T17:34:28.070565Z",
     "shell.execute_reply.started": "2022-08-18T17:34:28.059393Z"
    }
   },
   "outputs": [],
   "source": [
    "import pandas as pd\n",
    "import numpy as np"
   ]
  },
  {
   "cell_type": "code",
   "execution_count": 3,
   "metadata": {
    "execution": {
     "iopub.execute_input": "2022-08-18T17:34:28.077903Z",
     "iopub.status.busy": "2022-08-18T17:34:28.076978Z",
     "iopub.status.idle": "2022-08-18T17:34:28.583902Z",
     "shell.execute_reply": "2022-08-18T17:34:28.582670Z",
     "shell.execute_reply.started": "2022-08-18T17:34:28.077868Z"
    }
   },
   "outputs": [],
   "source": [
    "df = pd.read_csv(\"./uber/uber.csv\")"
   ]
  },
  {
   "cell_type": "code",
   "execution_count": 4,
   "metadata": {
    "execution": {
     "iopub.execute_input": "2022-08-18T17:34:28.586006Z",
     "iopub.status.busy": "2022-08-18T17:34:28.585263Z",
     "iopub.status.idle": "2022-08-18T17:34:28.607851Z",
     "shell.execute_reply": "2022-08-18T17:34:28.606595Z",
     "shell.execute_reply.started": "2022-08-18T17:34:28.585961Z"
    }
   },
   "outputs": [
    {
     "data": {
      "text/html": [
       "<div>\n",
       "<style scoped>\n",
       "    .dataframe tbody tr th:only-of-type {\n",
       "        vertical-align: middle;\n",
       "    }\n",
       "\n",
       "    .dataframe tbody tr th {\n",
       "        vertical-align: top;\n",
       "    }\n",
       "\n",
       "    .dataframe thead th {\n",
       "        text-align: right;\n",
       "    }\n",
       "</style>\n",
       "<table border=\"1\" class=\"dataframe\">\n",
       "  <thead>\n",
       "    <tr style=\"text-align: right;\">\n",
       "      <th></th>\n",
       "      <th>Unnamed: 0</th>\n",
       "      <th>key</th>\n",
       "      <th>fare_amount</th>\n",
       "      <th>pickup_datetime</th>\n",
       "      <th>pickup_longitude</th>\n",
       "      <th>pickup_latitude</th>\n",
       "      <th>dropoff_longitude</th>\n",
       "      <th>dropoff_latitude</th>\n",
       "      <th>passenger_count</th>\n",
       "    </tr>\n",
       "  </thead>\n",
       "  <tbody>\n",
       "    <tr>\n",
       "      <th>0</th>\n",
       "      <td>24238194</td>\n",
       "      <td>2015-05-07 19:52:06.0000003</td>\n",
       "      <td>7.5</td>\n",
       "      <td>2015-05-07 19:52:06 UTC</td>\n",
       "      <td>-73.999817</td>\n",
       "      <td>40.738354</td>\n",
       "      <td>-73.999512</td>\n",
       "      <td>40.723217</td>\n",
       "      <td>1</td>\n",
       "    </tr>\n",
       "    <tr>\n",
       "      <th>1</th>\n",
       "      <td>27835199</td>\n",
       "      <td>2009-07-17 20:04:56.0000002</td>\n",
       "      <td>7.7</td>\n",
       "      <td>2009-07-17 20:04:56 UTC</td>\n",
       "      <td>-73.994355</td>\n",
       "      <td>40.728225</td>\n",
       "      <td>-73.994710</td>\n",
       "      <td>40.750325</td>\n",
       "      <td>1</td>\n",
       "    </tr>\n",
       "    <tr>\n",
       "      <th>2</th>\n",
       "      <td>44984355</td>\n",
       "      <td>2009-08-24 21:45:00.00000061</td>\n",
       "      <td>12.9</td>\n",
       "      <td>2009-08-24 21:45:00 UTC</td>\n",
       "      <td>-74.005043</td>\n",
       "      <td>40.740770</td>\n",
       "      <td>-73.962565</td>\n",
       "      <td>40.772647</td>\n",
       "      <td>1</td>\n",
       "    </tr>\n",
       "    <tr>\n",
       "      <th>3</th>\n",
       "      <td>25894730</td>\n",
       "      <td>2009-06-26 08:22:21.0000001</td>\n",
       "      <td>5.3</td>\n",
       "      <td>2009-06-26 08:22:21 UTC</td>\n",
       "      <td>-73.976124</td>\n",
       "      <td>40.790844</td>\n",
       "      <td>-73.965316</td>\n",
       "      <td>40.803349</td>\n",
       "      <td>3</td>\n",
       "    </tr>\n",
       "    <tr>\n",
       "      <th>4</th>\n",
       "      <td>17610152</td>\n",
       "      <td>2014-08-28 17:47:00.000000188</td>\n",
       "      <td>16.0</td>\n",
       "      <td>2014-08-28 17:47:00 UTC</td>\n",
       "      <td>-73.925023</td>\n",
       "      <td>40.744085</td>\n",
       "      <td>-73.973082</td>\n",
       "      <td>40.761247</td>\n",
       "      <td>5</td>\n",
       "    </tr>\n",
       "  </tbody>\n",
       "</table>\n",
       "</div>"
      ],
      "text/plain": [
       "   Unnamed: 0                            key  fare_amount  \\\n",
       "0    24238194    2015-05-07 19:52:06.0000003          7.5   \n",
       "1    27835199    2009-07-17 20:04:56.0000002          7.7   \n",
       "2    44984355   2009-08-24 21:45:00.00000061         12.9   \n",
       "3    25894730    2009-06-26 08:22:21.0000001          5.3   \n",
       "4    17610152  2014-08-28 17:47:00.000000188         16.0   \n",
       "\n",
       "           pickup_datetime  pickup_longitude  pickup_latitude  \\\n",
       "0  2015-05-07 19:52:06 UTC        -73.999817        40.738354   \n",
       "1  2009-07-17 20:04:56 UTC        -73.994355        40.728225   \n",
       "2  2009-08-24 21:45:00 UTC        -74.005043        40.740770   \n",
       "3  2009-06-26 08:22:21 UTC        -73.976124        40.790844   \n",
       "4  2014-08-28 17:47:00 UTC        -73.925023        40.744085   \n",
       "\n",
       "   dropoff_longitude  dropoff_latitude  passenger_count  \n",
       "0         -73.999512         40.723217                1  \n",
       "1         -73.994710         40.750325                1  \n",
       "2         -73.962565         40.772647                1  \n",
       "3         -73.965316         40.803349                3  \n",
       "4         -73.973082         40.761247                5  "
      ]
     },
     "execution_count": 4,
     "metadata": {},
     "output_type": "execute_result"
    }
   ],
   "source": [
    "df.head()"
   ]
  },
  {
   "cell_type": "code",
   "execution_count": 5,
   "metadata": {
    "execution": {
     "iopub.execute_input": "2022-08-18T17:34:28.612840Z",
     "iopub.status.busy": "2022-08-18T17:34:28.611790Z",
     "iopub.status.idle": "2022-08-18T17:34:28.619546Z",
     "shell.execute_reply": "2022-08-18T17:34:28.618447Z",
     "shell.execute_reply.started": "2022-08-18T17:34:28.612799Z"
    }
   },
   "outputs": [
    {
     "data": {
      "text/plain": [
       "Index(['Unnamed: 0', 'key', 'fare_amount', 'pickup_datetime',\n",
       "       'pickup_longitude', 'pickup_latitude', 'dropoff_longitude',\n",
       "       'dropoff_latitude', 'passenger_count'],\n",
       "      dtype='object')"
      ]
     },
     "execution_count": 5,
     "metadata": {},
     "output_type": "execute_result"
    }
   ],
   "source": [
    "df.columns"
   ]
  },
  {
   "cell_type": "code",
   "execution_count": 6,
   "metadata": {
    "execution": {
     "iopub.execute_input": "2022-08-18T17:34:28.621823Z",
     "iopub.status.busy": "2022-08-18T17:34:28.621162Z",
     "iopub.status.idle": "2022-08-18T17:34:28.632474Z",
     "shell.execute_reply": "2022-08-18T17:34:28.631534Z",
     "shell.execute_reply.started": "2022-08-18T17:34:28.621789Z"
    }
   },
   "outputs": [
    {
     "data": {
      "text/plain": [
       "(200000, 9)"
      ]
     },
     "execution_count": 6,
     "metadata": {},
     "output_type": "execute_result"
    }
   ],
   "source": [
    "df.shape"
   ]
  },
  {
   "cell_type": "code",
   "execution_count": 7,
   "metadata": {
    "execution": {
     "iopub.execute_input": "2022-08-18T17:34:28.634571Z",
     "iopub.status.busy": "2022-08-18T17:34:28.634174Z",
     "iopub.status.idle": "2022-08-18T17:34:28.667001Z",
     "shell.execute_reply": "2022-08-18T17:34:28.665913Z",
     "shell.execute_reply.started": "2022-08-18T17:34:28.634540Z"
    }
   },
   "outputs": [],
   "source": [
    "cln_df = df.drop('Unnamed: 0', axis=1)\n",
    "cln_df = cln_df.drop('key', axis=1)"
   ]
  },
  {
   "cell_type": "code",
   "execution_count": 8,
   "metadata": {
    "execution": {
     "iopub.execute_input": "2022-08-18T17:34:28.668790Z",
     "iopub.status.busy": "2022-08-18T17:34:28.668413Z",
     "iopub.status.idle": "2022-08-18T17:34:28.676006Z",
     "shell.execute_reply": "2022-08-18T17:34:28.674842Z",
     "shell.execute_reply.started": "2022-08-18T17:34:28.668757Z"
    }
   },
   "outputs": [
    {
     "data": {
      "text/plain": [
       "(200000, 7)"
      ]
     },
     "execution_count": 8,
     "metadata": {},
     "output_type": "execute_result"
    }
   ],
   "source": [
    "cln_df.shape"
   ]
  },
  {
   "cell_type": "code",
   "execution_count": 9,
   "metadata": {
    "execution": {
     "iopub.execute_input": "2022-08-18T17:34:28.677445Z",
     "iopub.status.busy": "2022-08-18T17:34:28.677037Z",
     "iopub.status.idle": "2022-08-18T17:34:28.775812Z",
     "shell.execute_reply": "2022-08-18T17:34:28.774711Z",
     "shell.execute_reply.started": "2022-08-18T17:34:28.677413Z"
    }
   },
   "outputs": [
    {
     "data": {
      "text/html": [
       "<div>\n",
       "<style scoped>\n",
       "    .dataframe tbody tr th:only-of-type {\n",
       "        vertical-align: middle;\n",
       "    }\n",
       "\n",
       "    .dataframe tbody tr th {\n",
       "        vertical-align: top;\n",
       "    }\n",
       "\n",
       "    .dataframe thead th {\n",
       "        text-align: right;\n",
       "    }\n",
       "</style>\n",
       "<table border=\"1\" class=\"dataframe\">\n",
       "  <thead>\n",
       "    <tr style=\"text-align: right;\">\n",
       "      <th></th>\n",
       "      <th>fare_amount</th>\n",
       "      <th>pickup_datetime</th>\n",
       "      <th>pickup_longitude</th>\n",
       "      <th>pickup_latitude</th>\n",
       "      <th>dropoff_longitude</th>\n",
       "      <th>dropoff_latitude</th>\n",
       "      <th>passenger_count</th>\n",
       "      <th>month</th>\n",
       "    </tr>\n",
       "  </thead>\n",
       "  <tbody>\n",
       "    <tr>\n",
       "      <th>0</th>\n",
       "      <td>7.5</td>\n",
       "      <td>2015-05-07 19:52:06 UTC</td>\n",
       "      <td>-73.999817</td>\n",
       "      <td>40.738354</td>\n",
       "      <td>-73.999512</td>\n",
       "      <td>40.723217</td>\n",
       "      <td>1</td>\n",
       "      <td>05</td>\n",
       "    </tr>\n",
       "    <tr>\n",
       "      <th>1</th>\n",
       "      <td>7.7</td>\n",
       "      <td>2009-07-17 20:04:56 UTC</td>\n",
       "      <td>-73.994355</td>\n",
       "      <td>40.728225</td>\n",
       "      <td>-73.994710</td>\n",
       "      <td>40.750325</td>\n",
       "      <td>1</td>\n",
       "      <td>07</td>\n",
       "    </tr>\n",
       "    <tr>\n",
       "      <th>2</th>\n",
       "      <td>12.9</td>\n",
       "      <td>2009-08-24 21:45:00 UTC</td>\n",
       "      <td>-74.005043</td>\n",
       "      <td>40.740770</td>\n",
       "      <td>-73.962565</td>\n",
       "      <td>40.772647</td>\n",
       "      <td>1</td>\n",
       "      <td>08</td>\n",
       "    </tr>\n",
       "    <tr>\n",
       "      <th>3</th>\n",
       "      <td>5.3</td>\n",
       "      <td>2009-06-26 08:22:21 UTC</td>\n",
       "      <td>-73.976124</td>\n",
       "      <td>40.790844</td>\n",
       "      <td>-73.965316</td>\n",
       "      <td>40.803349</td>\n",
       "      <td>3</td>\n",
       "      <td>06</td>\n",
       "    </tr>\n",
       "    <tr>\n",
       "      <th>4</th>\n",
       "      <td>16.0</td>\n",
       "      <td>2014-08-28 17:47:00 UTC</td>\n",
       "      <td>-73.925023</td>\n",
       "      <td>40.744085</td>\n",
       "      <td>-73.973082</td>\n",
       "      <td>40.761247</td>\n",
       "      <td>5</td>\n",
       "      <td>08</td>\n",
       "    </tr>\n",
       "  </tbody>\n",
       "</table>\n",
       "</div>"
      ],
      "text/plain": [
       "   fare_amount          pickup_datetime  pickup_longitude  pickup_latitude  \\\n",
       "0          7.5  2015-05-07 19:52:06 UTC        -73.999817        40.738354   \n",
       "1          7.7  2009-07-17 20:04:56 UTC        -73.994355        40.728225   \n",
       "2         12.9  2009-08-24 21:45:00 UTC        -74.005043        40.740770   \n",
       "3          5.3  2009-06-26 08:22:21 UTC        -73.976124        40.790844   \n",
       "4         16.0  2014-08-28 17:47:00 UTC        -73.925023        40.744085   \n",
       "\n",
       "   dropoff_longitude  dropoff_latitude  passenger_count month  \n",
       "0         -73.999512         40.723217                1    05  \n",
       "1         -73.994710         40.750325                1    07  \n",
       "2         -73.962565         40.772647                1    08  \n",
       "3         -73.965316         40.803349                3    06  \n",
       "4         -73.973082         40.761247                5    08  "
      ]
     },
     "execution_count": 9,
     "metadata": {},
     "output_type": "execute_result"
    }
   ],
   "source": [
    "cln_df['month'] = cln_df['pickup_datetime']\n",
    "cln_df.head()\n",
    "cln_df.month = cln_df.month.str.slice(start=5, stop=7)\n",
    "cln_df.head()"
   ]
  },
  {
   "cell_type": "code",
   "execution_count": 10,
   "metadata": {
    "execution": {
     "iopub.execute_input": "2022-08-18T17:34:28.777518Z",
     "iopub.status.busy": "2022-08-18T17:34:28.777182Z",
     "iopub.status.idle": "2022-08-18T17:34:28.872556Z",
     "shell.execute_reply": "2022-08-18T17:34:28.871194Z",
     "shell.execute_reply.started": "2022-08-18T17:34:28.777489Z"
    }
   },
   "outputs": [
    {
     "data": {
      "text/html": [
       "<div>\n",
       "<style scoped>\n",
       "    .dataframe tbody tr th:only-of-type {\n",
       "        vertical-align: middle;\n",
       "    }\n",
       "\n",
       "    .dataframe tbody tr th {\n",
       "        vertical-align: top;\n",
       "    }\n",
       "\n",
       "    .dataframe thead th {\n",
       "        text-align: right;\n",
       "    }\n",
       "</style>\n",
       "<table border=\"1\" class=\"dataframe\">\n",
       "  <thead>\n",
       "    <tr style=\"text-align: right;\">\n",
       "      <th></th>\n",
       "      <th>fare_amount</th>\n",
       "      <th>pickup_datetime</th>\n",
       "      <th>pickup_longitude</th>\n",
       "      <th>pickup_latitude</th>\n",
       "      <th>dropoff_longitude</th>\n",
       "      <th>dropoff_latitude</th>\n",
       "      <th>passenger_count</th>\n",
       "      <th>month</th>\n",
       "      <th>hour</th>\n",
       "    </tr>\n",
       "  </thead>\n",
       "  <tbody>\n",
       "    <tr>\n",
       "      <th>0</th>\n",
       "      <td>7.5</td>\n",
       "      <td>2015-05-07 19:52:06 UTC</td>\n",
       "      <td>-73.999817</td>\n",
       "      <td>40.738354</td>\n",
       "      <td>-73.999512</td>\n",
       "      <td>40.723217</td>\n",
       "      <td>1</td>\n",
       "      <td>05</td>\n",
       "      <td>19</td>\n",
       "    </tr>\n",
       "    <tr>\n",
       "      <th>1</th>\n",
       "      <td>7.7</td>\n",
       "      <td>2009-07-17 20:04:56 UTC</td>\n",
       "      <td>-73.994355</td>\n",
       "      <td>40.728225</td>\n",
       "      <td>-73.994710</td>\n",
       "      <td>40.750325</td>\n",
       "      <td>1</td>\n",
       "      <td>07</td>\n",
       "      <td>20</td>\n",
       "    </tr>\n",
       "    <tr>\n",
       "      <th>2</th>\n",
       "      <td>12.9</td>\n",
       "      <td>2009-08-24 21:45:00 UTC</td>\n",
       "      <td>-74.005043</td>\n",
       "      <td>40.740770</td>\n",
       "      <td>-73.962565</td>\n",
       "      <td>40.772647</td>\n",
       "      <td>1</td>\n",
       "      <td>08</td>\n",
       "      <td>21</td>\n",
       "    </tr>\n",
       "    <tr>\n",
       "      <th>3</th>\n",
       "      <td>5.3</td>\n",
       "      <td>2009-06-26 08:22:21 UTC</td>\n",
       "      <td>-73.976124</td>\n",
       "      <td>40.790844</td>\n",
       "      <td>-73.965316</td>\n",
       "      <td>40.803349</td>\n",
       "      <td>3</td>\n",
       "      <td>06</td>\n",
       "      <td>08</td>\n",
       "    </tr>\n",
       "    <tr>\n",
       "      <th>4</th>\n",
       "      <td>16.0</td>\n",
       "      <td>2014-08-28 17:47:00 UTC</td>\n",
       "      <td>-73.925023</td>\n",
       "      <td>40.744085</td>\n",
       "      <td>-73.973082</td>\n",
       "      <td>40.761247</td>\n",
       "      <td>5</td>\n",
       "      <td>08</td>\n",
       "      <td>17</td>\n",
       "    </tr>\n",
       "  </tbody>\n",
       "</table>\n",
       "</div>"
      ],
      "text/plain": [
       "   fare_amount          pickup_datetime  pickup_longitude  pickup_latitude  \\\n",
       "0          7.5  2015-05-07 19:52:06 UTC        -73.999817        40.738354   \n",
       "1          7.7  2009-07-17 20:04:56 UTC        -73.994355        40.728225   \n",
       "2         12.9  2009-08-24 21:45:00 UTC        -74.005043        40.740770   \n",
       "3          5.3  2009-06-26 08:22:21 UTC        -73.976124        40.790844   \n",
       "4         16.0  2014-08-28 17:47:00 UTC        -73.925023        40.744085   \n",
       "\n",
       "   dropoff_longitude  dropoff_latitude  passenger_count month hour  \n",
       "0         -73.999512         40.723217                1    05   19  \n",
       "1         -73.994710         40.750325                1    07   20  \n",
       "2         -73.962565         40.772647                1    08   21  \n",
       "3         -73.965316         40.803349                3    06   08  \n",
       "4         -73.973082         40.761247                5    08   17  "
      ]
     },
     "execution_count": 10,
     "metadata": {},
     "output_type": "execute_result"
    }
   ],
   "source": [
    "cln_df['hour'] = cln_df['pickup_datetime']\n",
    "cln_df.hour = cln_df.hour.str.slice(start=11, stop=13)\n",
    "cln_df.head()"
   ]
  },
  {
   "cell_type": "code",
   "execution_count": 11,
   "metadata": {
    "execution": {
     "iopub.execute_input": "2022-08-18T17:34:28.874389Z",
     "iopub.status.busy": "2022-08-18T17:34:28.873997Z",
     "iopub.status.idle": "2022-08-18T17:34:28.916751Z",
     "shell.execute_reply": "2022-08-18T17:34:28.915538Z",
     "shell.execute_reply.started": "2022-08-18T17:34:28.874354Z"
    }
   },
   "outputs": [
    {
     "data": {
      "text/plain": [
       "(200000, 8)"
      ]
     },
     "execution_count": 11,
     "metadata": {},
     "output_type": "execute_result"
    }
   ],
   "source": [
    "cln_df.drop('pickup_datetime', axis=1, inplace=True)\n",
    "cln_df.shape"
   ]
  },
  {
   "cell_type": "code",
   "execution_count": 12,
   "metadata": {
    "execution": {
     "iopub.execute_input": "2022-08-18T17:34:28.918588Z",
     "iopub.status.busy": "2022-08-18T17:34:28.918201Z",
     "iopub.status.idle": "2022-08-18T17:34:28.948612Z",
     "shell.execute_reply": "2022-08-18T17:34:28.947440Z",
     "shell.execute_reply.started": "2022-08-18T17:34:28.918557Z"
    }
   },
   "outputs": [
    {
     "data": {
      "text/plain": [
       "fare_amount          0\n",
       "pickup_longitude     0\n",
       "pickup_latitude      0\n",
       "dropoff_longitude    1\n",
       "dropoff_latitude     1\n",
       "passenger_count      0\n",
       "month                0\n",
       "hour                 0\n",
       "dtype: int64"
      ]
     },
     "execution_count": 12,
     "metadata": {},
     "output_type": "execute_result"
    }
   ],
   "source": [
    "cln_df.isnull().sum()"
   ]
  },
  {
   "cell_type": "code",
   "execution_count": 13,
   "metadata": {
    "execution": {
     "iopub.execute_input": "2022-08-18T17:34:28.950959Z",
     "iopub.status.busy": "2022-08-18T17:34:28.950223Z",
     "iopub.status.idle": "2022-08-18T17:34:28.999280Z",
     "shell.execute_reply": "2022-08-18T17:34:28.998192Z",
     "shell.execute_reply.started": "2022-08-18T17:34:28.950912Z"
    }
   },
   "outputs": [],
   "source": [
    "cln_df.dropna(inplace=True)"
   ]
  },
  {
   "cell_type": "code",
   "execution_count": 14,
   "metadata": {
    "execution": {
     "iopub.execute_input": "2022-08-18T17:34:29.006040Z",
     "iopub.status.busy": "2022-08-18T17:34:29.005557Z",
     "iopub.status.idle": "2022-08-18T17:34:29.011905Z",
     "shell.execute_reply": "2022-08-18T17:34:29.011101Z",
     "shell.execute_reply.started": "2022-08-18T17:34:29.006005Z"
    }
   },
   "outputs": [
    {
     "data": {
      "text/plain": [
       "(199999, 8)"
      ]
     },
     "execution_count": 14,
     "metadata": {},
     "output_type": "execute_result"
    }
   ],
   "source": [
    "cln_df.shape"
   ]
  },
  {
   "cell_type": "code",
   "execution_count": 15,
   "metadata": {
    "execution": {
     "iopub.execute_input": "2022-08-18T17:34:29.014276Z",
     "iopub.status.busy": "2022-08-18T17:34:29.013673Z",
     "iopub.status.idle": "2022-08-18T17:34:29.023590Z",
     "shell.execute_reply": "2022-08-18T17:34:29.022588Z",
     "shell.execute_reply.started": "2022-08-18T17:34:29.014243Z"
    }
   },
   "outputs": [
    {
     "data": {
      "text/plain": [
       "Index(['fare_amount', 'pickup_longitude', 'pickup_latitude',\n",
       "       'dropoff_longitude', 'dropoff_latitude', 'passenger_count', 'month',\n",
       "       'hour'],\n",
       "      dtype='object')"
      ]
     },
     "execution_count": 15,
     "metadata": {},
     "output_type": "execute_result"
    }
   ],
   "source": [
    "cln_df.columns"
   ]
  },
  {
   "cell_type": "code",
   "execution_count": 16,
   "metadata": {
    "execution": {
     "iopub.execute_input": "2022-08-18T17:34:29.025837Z",
     "iopub.status.busy": "2022-08-18T17:34:29.024944Z",
     "iopub.status.idle": "2022-08-18T17:34:29.045012Z",
     "shell.execute_reply": "2022-08-18T17:34:29.044103Z",
     "shell.execute_reply.started": "2022-08-18T17:34:29.025803Z"
    }
   },
   "outputs": [
    {
     "data": {
      "text/html": [
       "<div>\n",
       "<style scoped>\n",
       "    .dataframe tbody tr th:only-of-type {\n",
       "        vertical-align: middle;\n",
       "    }\n",
       "\n",
       "    .dataframe tbody tr th {\n",
       "        vertical-align: top;\n",
       "    }\n",
       "\n",
       "    .dataframe thead th {\n",
       "        text-align: right;\n",
       "    }\n",
       "</style>\n",
       "<table border=\"1\" class=\"dataframe\">\n",
       "  <thead>\n",
       "    <tr style=\"text-align: right;\">\n",
       "      <th></th>\n",
       "      <th>fare_amount</th>\n",
       "      <th>pickup_longitude</th>\n",
       "      <th>pickup_latitude</th>\n",
       "      <th>dropoff_longitude</th>\n",
       "      <th>dropoff_latitude</th>\n",
       "      <th>passenger_count</th>\n",
       "      <th>month</th>\n",
       "      <th>hour</th>\n",
       "    </tr>\n",
       "  </thead>\n",
       "  <tbody>\n",
       "    <tr>\n",
       "      <th>0</th>\n",
       "      <td>7.5</td>\n",
       "      <td>-73.999817</td>\n",
       "      <td>40.738354</td>\n",
       "      <td>-73.999512</td>\n",
       "      <td>40.723217</td>\n",
       "      <td>1</td>\n",
       "      <td>05</td>\n",
       "      <td>19</td>\n",
       "    </tr>\n",
       "    <tr>\n",
       "      <th>1</th>\n",
       "      <td>7.7</td>\n",
       "      <td>-73.994355</td>\n",
       "      <td>40.728225</td>\n",
       "      <td>-73.994710</td>\n",
       "      <td>40.750325</td>\n",
       "      <td>1</td>\n",
       "      <td>07</td>\n",
       "      <td>20</td>\n",
       "    </tr>\n",
       "    <tr>\n",
       "      <th>2</th>\n",
       "      <td>12.9</td>\n",
       "      <td>-74.005043</td>\n",
       "      <td>40.740770</td>\n",
       "      <td>-73.962565</td>\n",
       "      <td>40.772647</td>\n",
       "      <td>1</td>\n",
       "      <td>08</td>\n",
       "      <td>21</td>\n",
       "    </tr>\n",
       "    <tr>\n",
       "      <th>3</th>\n",
       "      <td>5.3</td>\n",
       "      <td>-73.976124</td>\n",
       "      <td>40.790844</td>\n",
       "      <td>-73.965316</td>\n",
       "      <td>40.803349</td>\n",
       "      <td>3</td>\n",
       "      <td>06</td>\n",
       "      <td>08</td>\n",
       "    </tr>\n",
       "    <tr>\n",
       "      <th>4</th>\n",
       "      <td>16.0</td>\n",
       "      <td>-73.925023</td>\n",
       "      <td>40.744085</td>\n",
       "      <td>-73.973082</td>\n",
       "      <td>40.761247</td>\n",
       "      <td>5</td>\n",
       "      <td>08</td>\n",
       "      <td>17</td>\n",
       "    </tr>\n",
       "  </tbody>\n",
       "</table>\n",
       "</div>"
      ],
      "text/plain": [
       "   fare_amount  pickup_longitude  pickup_latitude  dropoff_longitude  \\\n",
       "0          7.5        -73.999817        40.738354         -73.999512   \n",
       "1          7.7        -73.994355        40.728225         -73.994710   \n",
       "2         12.9        -74.005043        40.740770         -73.962565   \n",
       "3          5.3        -73.976124        40.790844         -73.965316   \n",
       "4         16.0        -73.925023        40.744085         -73.973082   \n",
       "\n",
       "   dropoff_latitude  passenger_count month hour  \n",
       "0         40.723217                1    05   19  \n",
       "1         40.750325                1    07   20  \n",
       "2         40.772647                1    08   21  \n",
       "3         40.803349                3    06   08  \n",
       "4         40.761247                5    08   17  "
      ]
     },
     "execution_count": 16,
     "metadata": {},
     "output_type": "execute_result"
    }
   ],
   "source": [
    "cln_df.head()"
   ]
  },
  {
   "cell_type": "markdown",
   "metadata": {},
   "source": [
    "# Outlier Detection"
   ]
  },
  {
   "cell_type": "code",
   "execution_count": 17,
   "metadata": {
    "execution": {
     "iopub.execute_input": "2022-08-18T17:34:29.047115Z",
     "iopub.status.busy": "2022-08-18T17:34:29.046036Z",
     "iopub.status.idle": "2022-08-18T17:34:29.551994Z",
     "shell.execute_reply": "2022-08-18T17:34:29.550561Z",
     "shell.execute_reply.started": "2022-08-18T17:34:29.047078Z"
    }
   },
   "outputs": [],
   "source": [
    "import seaborn as sns\n",
    "from matplotlib.cbook import boxplot_stats  "
   ]
  },
  {
   "cell_type": "code",
   "execution_count": 18,
   "metadata": {
    "execution": {
     "iopub.execute_input": "2022-08-18T17:34:29.554270Z",
     "iopub.status.busy": "2022-08-18T17:34:29.553545Z",
     "iopub.status.idle": "2022-08-18T17:34:29.768064Z",
     "shell.execute_reply": "2022-08-18T17:34:29.767123Z",
     "shell.execute_reply.started": "2022-08-18T17:34:29.554225Z"
    }
   },
   "outputs": [
    {
     "name": "stderr",
     "output_type": "stream",
     "text": [
      "C:\\Users\\ahdeo\\anaconda3\\lib\\site-packages\\seaborn\\_decorators.py:36: FutureWarning: Pass the following variable as a keyword arg: x. From version 0.12, the only valid positional argument will be `data`, and passing other arguments without an explicit keyword will result in an error or misinterpretation.\n",
      "  warnings.warn(\n"
     ]
    },
    {
     "name": "stdout",
     "output_type": "stream",
     "text": [
      "[-52.  -52.  -50.5 ... 275.  350.  499. ]\n",
      "17166\n"
     ]
    },
    {
     "data": {
      "image/png": "[encoded data removed]",
      "text/plain": [
       "<Figure size 432x288 with 1 Axes>"
      ]
     },
     "metadata": {
      "needs_background": "light"
     },
     "output_type": "display_data"
    }
   ],
   "source": [
    "#Outliers for Fare Amount\n",
    "fare_amt_outliers = boxplot_stats(cln_df.fare_amount)[0]['fliers']\n",
    "fare_amt_outliers.sort()\n",
    "sns.boxplot(cln_df['fare_amount'])\n",
    "print(fare_amt_outliers)\n",
    "print(len(fare_amt_outliers))"
   ]
  },
  {
   "cell_type": "code",
   "execution_count": 19,
   "metadata": {
    "execution": {
     "iopub.execute_input": "2022-08-18T17:34:29.770072Z",
     "iopub.status.busy": "2022-08-18T17:34:29.769223Z",
     "iopub.status.idle": "2022-08-18T17:34:29.802320Z",
     "shell.execute_reply": "2022-08-18T17:34:29.801205Z",
     "shell.execute_reply.started": "2022-08-18T17:34:29.770037Z"
    }
   },
   "outputs": [],
   "source": [
    "#remove outliers for fare amount\n",
    "Q1 = cln_df['fare_amount'].quantile(0.25)\n",
    "Q3 = cln_df['fare_amount'].quantile(0.75)\n",
    "IQR = Q3 - Q1  \n",
    "filter = (cln_df['fare_amount'] >= Q1 - 1.5 * IQR) & (cln_df['fare_amount'] <= Q3 + 1.5 *IQR)\n",
    "cln_df = cln_df.loc[filter]"
   ]
  },
  {
   "cell_type": "code",
   "execution_count": 20,
   "metadata": {
    "execution": {
     "iopub.execute_input": "2022-08-18T17:34:29.804370Z",
     "iopub.status.busy": "2022-08-18T17:34:29.803749Z",
     "iopub.status.idle": "2022-08-18T17:34:29.810528Z",
     "shell.execute_reply": "2022-08-18T17:34:29.809651Z",
     "shell.execute_reply.started": "2022-08-18T17:34:29.804335Z"
    }
   },
   "outputs": [
    {
     "data": {
      "text/plain": [
       "(182833, 8)"
      ]
     },
     "execution_count": 20,
     "metadata": {},
     "output_type": "execute_result"
    }
   ],
   "source": [
    "cln_df.shape"
   ]
  },
  {
   "cell_type": "code",
   "execution_count": 21,
   "metadata": {
    "execution": {
     "iopub.execute_input": "2022-08-18T17:34:29.812660Z",
     "iopub.status.busy": "2022-08-18T17:34:29.812064Z",
     "iopub.status.idle": "2022-08-18T17:34:29.947495Z",
     "shell.execute_reply": "2022-08-18T17:34:29.946389Z",
     "shell.execute_reply.started": "2022-08-18T17:34:29.812604Z"
    }
   },
   "outputs": [
    {
     "name": "stdout",
     "output_type": "stream",
     "text": [
      "6\n",
      "4\n",
      "3\n",
      "3\n"
     ]
    }
   ],
   "source": [
    "#Outliers for latitudes and longitudes\n",
    "#Any value out of [-90, 90] and [-180,180] will be invalid\n",
    "def find_latitude_outliers(series):\n",
    "    ans = []\n",
    "    for i in series:\n",
    "        if(i<-90 or i>90):\n",
    "            ans.append(i)\n",
    "    return ans\n",
    "\n",
    "def find_longitude_outliers(series):\n",
    "    ans = []\n",
    "    for i in series:\n",
    "        if(i<-180 or i>180):\n",
    "            ans.append(i)\n",
    "    return ans\n",
    "\n",
    "\n",
    "pickup_longitude_outliers = find_longitude_outliers(cln_df['pickup_longitude'])\n",
    "pickup_latitude_outliers = find_latitude_outliers(cln_df['pickup_latitude'])\n",
    "dropoff_longitude_outliers = find_longitude_outliers(cln_df['dropoff_longitude'])\n",
    "dropoff_latitude_outliers = find_latitude_outliers(cln_df['dropoff_latitude'])\n",
    "\n",
    "print(len(pickup_longitude_outliers))\n",
    "print(len(pickup_latitude_outliers))\n",
    "print(len(dropoff_longitude_outliers))\n",
    "print(len(dropoff_latitude_outliers))"
   ]
  },
  {
   "cell_type": "code",
   "execution_count": 22,
   "metadata": {
    "execution": {
     "iopub.execute_input": "2022-08-18T17:34:29.949246Z",
     "iopub.status.busy": "2022-08-18T17:34:29.948848Z",
     "iopub.status.idle": "2022-08-18T17:34:30.164921Z",
     "shell.execute_reply": "2022-08-18T17:34:30.163759Z",
     "shell.execute_reply.started": "2022-08-18T17:34:29.949211Z"
    }
   },
   "outputs": [
    {
     "name": "stdout",
     "output_type": "stream",
     "text": [
      "[  4   4   4 ...   6   6 208]\n",
      "20555\n"
     ]
    },
    {
     "name": "stderr",
     "output_type": "stream",
     "text": [
      "C:\\Users\\ahdeo\\anaconda3\\lib\\site-packages\\seaborn\\_decorators.py:36: FutureWarning: Pass the following variable as a keyword arg: x. From version 0.12, the only valid positional argument will be `data`, and passing other arguments without an explicit keyword will result in an error or misinterpretation.\n",
      "  warnings.warn(\n"
     ]
    },
    {
     "data": {
      "text/plain": [
       "(182832, 8)"
      ]
     },
     "execution_count": 22,
     "metadata": {},
     "output_type": "execute_result"
    },
    {
     "data": {
      "image/png": "[encoded data removed]",
      "text/plain": [
       "<Figure size 432x288 with 1 Axes>"
      ]
     },
     "metadata": {
      "needs_background": "light"
     },
     "output_type": "display_data"
    }
   ],
   "source": [
    "#Outliers for Passenger count \n",
    "passenger_count_outliers = boxplot_stats(cln_df.passenger_count)[0]['fliers']\n",
    "passenger_count_outliers.sort()\n",
    "sns.boxplot(cln_df['passenger_count'])\n",
    "print(passenger_count_outliers)\n",
    "print(len(passenger_count_outliers))\n",
    "\n",
    "filter = cln_df['passenger_count']<=6\n",
    "cln_df = cln_df.loc[filter]\n",
    "cln_df.shape"
   ]
  },
  {
   "cell_type": "code",
   "execution_count": 23,
   "metadata": {
    "execution": {
     "iopub.execute_input": "2022-08-18T17:34:30.167136Z",
     "iopub.status.busy": "2022-08-18T17:34:30.166696Z",
     "iopub.status.idle": "2022-08-18T17:34:30.203382Z",
     "shell.execute_reply": "2022-08-18T17:34:30.202228Z",
     "shell.execute_reply.started": "2022-08-18T17:34:30.167093Z"
    }
   },
   "outputs": [],
   "source": [
    "correlation_matrix = cln_df.corr()"
   ]
  },
  {
   "cell_type": "code",
   "execution_count": 24,
   "metadata": {
    "execution": {
     "iopub.execute_input": "2022-08-18T17:34:30.205994Z",
     "iopub.status.busy": "2022-08-18T17:34:30.205149Z",
     "iopub.status.idle": "2022-08-18T17:34:30.226611Z",
     "shell.execute_reply": "2022-08-18T17:34:30.225427Z",
     "shell.execute_reply.started": "2022-08-18T17:34:30.205931Z"
    }
   },
   "outputs": [
    {
     "data": {
      "text/html": [
       "<div>\n",
       "<style scoped>\n",
       "    .dataframe tbody tr th:only-of-type {\n",
       "        vertical-align: middle;\n",
       "    }\n",
       "\n",
       "    .dataframe tbody tr th {\n",
       "        vertical-align: top;\n",
       "    }\n",
       "\n",
       "    .dataframe thead th {\n",
       "        text-align: right;\n",
       "    }\n",
       "</style>\n",
       "<table border=\"1\" class=\"dataframe\">\n",
       "  <thead>\n",
       "    <tr style=\"text-align: right;\">\n",
       "      <th></th>\n",
       "      <th>fare_amount</th>\n",
       "      <th>pickup_longitude</th>\n",
       "      <th>pickup_latitude</th>\n",
       "      <th>dropoff_longitude</th>\n",
       "      <th>dropoff_latitude</th>\n",
       "      <th>passenger_count</th>\n",
       "    </tr>\n",
       "  </thead>\n",
       "  <tbody>\n",
       "    <tr>\n",
       "      <th>fare_amount</th>\n",
       "      <td>1.000000</td>\n",
       "      <td>0.000368</td>\n",
       "      <td>0.002618</td>\n",
       "      <td>-0.002413</td>\n",
       "      <td>0.000588</td>\n",
       "      <td>0.012876</td>\n",
       "    </tr>\n",
       "    <tr>\n",
       "      <th>pickup_longitude</th>\n",
       "      <td>0.000368</td>\n",
       "      <td>1.000000</td>\n",
       "      <td>-0.812047</td>\n",
       "      <td>0.835950</td>\n",
       "      <td>-0.850574</td>\n",
       "      <td>-0.000695</td>\n",
       "    </tr>\n",
       "    <tr>\n",
       "      <th>pickup_latitude</th>\n",
       "      <td>0.002618</td>\n",
       "      <td>-0.812047</td>\n",
       "      <td>1.000000</td>\n",
       "      <td>-0.767103</td>\n",
       "      <td>0.684558</td>\n",
       "      <td>-0.001800</td>\n",
       "    </tr>\n",
       "    <tr>\n",
       "      <th>dropoff_longitude</th>\n",
       "      <td>-0.002413</td>\n",
       "      <td>0.835950</td>\n",
       "      <td>-0.767103</td>\n",
       "      <td>1.000000</td>\n",
       "      <td>-0.913949</td>\n",
       "      <td>0.000307</td>\n",
       "    </tr>\n",
       "    <tr>\n",
       "      <th>dropoff_latitude</th>\n",
       "      <td>0.000588</td>\n",
       "      <td>-0.850574</td>\n",
       "      <td>0.684558</td>\n",
       "      <td>-0.913949</td>\n",
       "      <td>1.000000</td>\n",
       "      <td>-0.001014</td>\n",
       "    </tr>\n",
       "    <tr>\n",
       "      <th>passenger_count</th>\n",
       "      <td>0.012876</td>\n",
       "      <td>-0.000695</td>\n",
       "      <td>-0.001800</td>\n",
       "      <td>0.000307</td>\n",
       "      <td>-0.001014</td>\n",
       "      <td>1.000000</td>\n",
       "    </tr>\n",
       "  </tbody>\n",
       "</table>\n",
       "</div>"
      ],
      "text/plain": [
       "                   fare_amount  pickup_longitude  pickup_latitude  \\\n",
       "fare_amount           1.000000          0.000368         0.002618   \n",
       "pickup_longitude      0.000368          1.000000        -0.812047   \n",
       "pickup_latitude       0.002618         -0.812047         1.000000   \n",
       "dropoff_longitude    -0.002413          0.835950        -0.767103   \n",
       "dropoff_latitude      0.000588         -0.850574         0.684558   \n",
       "passenger_count       0.012876         -0.000695        -0.001800   \n",
       "\n",
       "                   dropoff_longitude  dropoff_latitude  passenger_count  \n",
       "fare_amount                -0.002413          0.000588         0.012876  \n",
       "pickup_longitude            0.835950         -0.850574        -0.000695  \n",
       "pickup_latitude            -0.767103          0.684558        -0.001800  \n",
       "dropoff_longitude           1.000000         -0.913949         0.000307  \n",
       "dropoff_latitude           -0.913949          1.000000        -0.001014  \n",
       "passenger_count             0.000307         -0.001014         1.000000  "
      ]
     },
     "execution_count": 24,
     "metadata": {},
     "output_type": "execute_result"
    }
   ],
   "source": [
    "correlation_matrix"
   ]
  },
  {
   "cell_type": "code",
   "execution_count": 25,
   "metadata": {
    "execution": {
     "iopub.execute_input": "2022-08-18T17:34:30.228558Z",
     "iopub.status.busy": "2022-08-18T17:34:30.228141Z",
     "iopub.status.idle": "2022-08-18T17:34:30.522138Z",
     "shell.execute_reply": "2022-08-18T17:34:30.521038Z",
     "shell.execute_reply.started": "2022-08-18T17:34:30.228521Z"
    }
   },
   "outputs": [
    {
     "data": {
      "text/plain": [
       "<AxesSubplot:>"
      ]
     },
     "execution_count": 25,
     "metadata": {},
     "output_type": "execute_result"
    },
    {
     "data": {
      "image/png": "[encoded data removed]",
      "text/plain": [
       "<Figure size 432x288 with 2 Axes>"
      ]
     },
     "metadata": {
      "needs_background": "light"
     },
     "output_type": "display_data"
    }
   ],
   "source": [
    "sns.heatmap(correlation_matrix)"
   ]
  },
  {
   "cell_type": "code",
   "execution_count": 26,
   "metadata": {
    "execution": {
     "iopub.execute_input": "2022-08-18T17:34:30.524147Z",
     "iopub.status.busy": "2022-08-18T17:34:30.523796Z",
     "iopub.status.idle": "2022-08-18T17:34:30.576994Z",
     "shell.execute_reply": "2022-08-18T17:34:30.575791Z",
     "shell.execute_reply.started": "2022-08-18T17:34:30.524115Z"
    }
   },
   "outputs": [],
   "source": [
    "convert_dict = {'month': int, 'hour':int}\n",
    "cln_df = cln_df.astype(convert_dict)"
   ]
  },
  {
   "cell_type": "code",
   "execution_count": 27,
   "metadata": {
    "execution": {
     "iopub.execute_input": "2022-08-18T17:34:30.579260Z",
     "iopub.status.busy": "2022-08-18T17:34:30.578384Z",
     "iopub.status.idle": "2022-08-18T17:34:30.646211Z",
     "shell.execute_reply": "2022-08-18T17:34:30.645333Z",
     "shell.execute_reply.started": "2022-08-18T17:34:30.579224Z"
    }
   },
   "outputs": [
    {
     "data": {
      "text/html": [
       "<div>\n",
       "<style scoped>\n",
       "    .dataframe tbody tr th:only-of-type {\n",
       "        vertical-align: middle;\n",
       "    }\n",
       "\n",
       "    .dataframe tbody tr th {\n",
       "        vertical-align: top;\n",
       "    }\n",
       "\n",
       "    .dataframe thead th {\n",
       "        text-align: right;\n",
       "    }\n",
       "</style>\n",
       "<table border=\"1\" class=\"dataframe\">\n",
       "  <thead>\n",
       "    <tr style=\"text-align: right;\">\n",
       "      <th></th>\n",
       "      <th>fare_amount</th>\n",
       "      <th>pickup_longitude</th>\n",
       "      <th>pickup_latitude</th>\n",
       "      <th>dropoff_longitude</th>\n",
       "      <th>dropoff_latitude</th>\n",
       "      <th>passenger_count</th>\n",
       "      <th>month</th>\n",
       "      <th>hour</th>\n",
       "    </tr>\n",
       "  </thead>\n",
       "  <tbody>\n",
       "    <tr>\n",
       "      <th>fare_amount</th>\n",
       "      <td>1.000000</td>\n",
       "      <td>0.000368</td>\n",
       "      <td>0.002618</td>\n",
       "      <td>-0.002413</td>\n",
       "      <td>0.000588</td>\n",
       "      <td>0.012876</td>\n",
       "      <td>0.026332</td>\n",
       "      <td>-0.013216</td>\n",
       "    </tr>\n",
       "    <tr>\n",
       "      <th>pickup_longitude</th>\n",
       "      <td>0.000368</td>\n",
       "      <td>1.000000</td>\n",
       "      <td>-0.812047</td>\n",
       "      <td>0.835950</td>\n",
       "      <td>-0.850574</td>\n",
       "      <td>-0.000695</td>\n",
       "      <td>-0.003948</td>\n",
       "      <td>0.003543</td>\n",
       "    </tr>\n",
       "    <tr>\n",
       "      <th>pickup_latitude</th>\n",
       "      <td>0.002618</td>\n",
       "      <td>-0.812047</td>\n",
       "      <td>1.000000</td>\n",
       "      <td>-0.767103</td>\n",
       "      <td>0.684558</td>\n",
       "      <td>-0.001800</td>\n",
       "      <td>0.004152</td>\n",
       "      <td>-0.004674</td>\n",
       "    </tr>\n",
       "    <tr>\n",
       "      <th>dropoff_longitude</th>\n",
       "      <td>-0.002413</td>\n",
       "      <td>0.835950</td>\n",
       "      <td>-0.767103</td>\n",
       "      <td>1.000000</td>\n",
       "      <td>-0.913949</td>\n",
       "      <td>0.000307</td>\n",
       "      <td>-0.003471</td>\n",
       "      <td>0.004026</td>\n",
       "    </tr>\n",
       "    <tr>\n",
       "      <th>dropoff_latitude</th>\n",
       "      <td>0.000588</td>\n",
       "      <td>-0.850574</td>\n",
       "      <td>0.684558</td>\n",
       "      <td>-0.913949</td>\n",
       "      <td>1.000000</td>\n",
       "      <td>-0.001014</td>\n",
       "      <td>0.003508</td>\n",
       "      <td>-0.003166</td>\n",
       "    </tr>\n",
       "    <tr>\n",
       "      <th>passenger_count</th>\n",
       "      <td>0.012876</td>\n",
       "      <td>-0.000695</td>\n",
       "      <td>-0.001800</td>\n",
       "      <td>0.000307</td>\n",
       "      <td>-0.001014</td>\n",
       "      <td>1.000000</td>\n",
       "      <td>0.008802</td>\n",
       "      <td>0.015058</td>\n",
       "    </tr>\n",
       "    <tr>\n",
       "      <th>month</th>\n",
       "      <td>0.026332</td>\n",
       "      <td>-0.003948</td>\n",
       "      <td>0.004152</td>\n",
       "      <td>-0.003471</td>\n",
       "      <td>0.003508</td>\n",
       "      <td>0.008802</td>\n",
       "      <td>1.000000</td>\n",
       "      <td>-0.002697</td>\n",
       "    </tr>\n",
       "    <tr>\n",
       "      <th>hour</th>\n",
       "      <td>-0.013216</td>\n",
       "      <td>0.003543</td>\n",
       "      <td>-0.004674</td>\n",
       "      <td>0.004026</td>\n",
       "      <td>-0.003166</td>\n",
       "      <td>0.015058</td>\n",
       "      <td>-0.002697</td>\n",
       "      <td>1.000000</td>\n",
       "    </tr>\n",
       "  </tbody>\n",
       "</table>\n",
       "</div>"
      ],
      "text/plain": [
       "                   fare_amount  pickup_longitude  pickup_latitude  \\\n",
       "fare_amount           1.000000          0.000368         0.002618   \n",
       "pickup_longitude      0.000368          1.000000        -0.812047   \n",
       "pickup_latitude       0.002618         -0.812047         1.000000   \n",
       "dropoff_longitude    -0.002413          0.835950        -0.767103   \n",
       "dropoff_latitude      0.000588         -0.850574         0.684558   \n",
       "passenger_count       0.012876         -0.000695        -0.001800   \n",
       "month                 0.026332         -0.003948         0.004152   \n",
       "hour                 -0.013216          0.003543        -0.004674   \n",
       "\n",
       "                   dropoff_longitude  dropoff_latitude  passenger_count  \\\n",
       "fare_amount                -0.002413          0.000588         0.012876   \n",
       "pickup_longitude            0.835950         -0.850574        -0.000695   \n",
       "pickup_latitude            -0.767103          0.684558        -0.001800   \n",
       "dropoff_longitude           1.000000         -0.913949         0.000307   \n",
       "dropoff_latitude           -0.913949          1.000000        -0.001014   \n",
       "passenger_count             0.000307         -0.001014         1.000000   \n",
       "month                      -0.003471          0.003508         0.008802   \n",
       "hour                        0.004026         -0.003166         0.015058   \n",
       "\n",
       "                      month      hour  \n",
       "fare_amount        0.026332 -0.013216  \n",
       "pickup_longitude  -0.003948  0.003543  \n",
       "pickup_latitude    0.004152 -0.004674  \n",
       "dropoff_longitude -0.003471  0.004026  \n",
       "dropoff_latitude   0.003508 -0.003166  \n",
       "passenger_count    0.008802  0.015058  \n",
       "month              1.000000 -0.002697  \n",
       "hour              -0.002697  1.000000  "
      ]
     },
     "execution_count": 27,
     "metadata": {},
     "output_type": "execute_result"
    }
   ],
   "source": [
    "correlation_matrix = cln_df.corr()\n",
    "correlation_matrix"
   ]
  },
  {
   "cell_type": "code",
   "execution_count": 28,
   "metadata": {
    "execution": {
     "iopub.execute_input": "2022-08-18T17:34:30.647999Z",
     "iopub.status.busy": "2022-08-18T17:34:30.647373Z",
     "iopub.status.idle": "2022-08-18T17:34:30.958170Z",
     "shell.execute_reply": "2022-08-18T17:34:30.956966Z",
     "shell.execute_reply.started": "2022-08-18T17:34:30.647957Z"
    }
   },
   "outputs": [
    {
     "data": {
      "text/plain": [
       "<AxesSubplot:>"
      ]
     },
     "execution_count": 28,
     "metadata": {},
     "output_type": "execute_result"
    },
    {
     "data": {
      "image/png": "[encoded data removed]",
      "text/plain": [
       "<Figure size 432x288 with 2 Axes>"
      ]
     },
     "metadata": {
      "needs_background": "light"
     },
     "output_type": "display_data"
    }
   ],
   "source": [
    "sns.heatmap(correlation_matrix)"
   ]
  },
  {
   "cell_type": "code",
   "execution_count": null,
   "metadata": {},
   "outputs": [],
   "source": []
  },
  {
   "cell_type": "markdown",
   "metadata": {},
   "source": [
    "# Split Dset"
   ]
  },
  {
   "cell_type": "code",
   "execution_count": 29,
   "metadata": {
    "execution": {
     "iopub.execute_input": "2022-08-18T17:34:30.960582Z",
     "iopub.status.busy": "2022-08-18T17:34:30.960157Z",
     "iopub.status.idle": "2022-08-18T17:34:30.974405Z",
     "shell.execute_reply": "2022-08-18T17:34:30.973109Z",
     "shell.execute_reply.started": "2022-08-18T17:34:30.960543Z"
    }
   },
   "outputs": [
    {
     "name": "stdout",
     "output_type": "stream",
     "text": [
      "(182832, 7) (182832,)\n"
     ]
    }
   ],
   "source": [
    "X = cln_df.iloc[:, 1:]\n",
    "y = cln_df.iloc[:, 0]\n",
    "print(X.shape, y.shape)"
   ]
  },
  {
   "cell_type": "code",
   "execution_count": 30,
   "metadata": {
    "execution": {
     "iopub.execute_input": "2022-08-18T17:34:30.976292Z",
     "iopub.status.busy": "2022-08-18T17:34:30.975885Z",
     "iopub.status.idle": "2022-08-18T17:34:31.074000Z",
     "shell.execute_reply": "2022-08-18T17:34:31.072663Z",
     "shell.execute_reply.started": "2022-08-18T17:34:30.976253Z"
    }
   },
   "outputs": [
    {
     "name": "stdout",
     "output_type": "stream",
     "text": [
      "(155407, 7) (155407,) (27425, 7) (27425,)\n"
     ]
    }
   ],
   "source": [
    "from sklearn.model_selection import train_test_split\n",
    "X_train, X_test, y_train, y_test = train_test_split(X, y, test_size=0.15, random_state=42)\n",
    "print(X_train.shape, y_train.shape, X_test.shape, y_test.shape)"
   ]
  },
  {
   "cell_type": "markdown",
   "metadata": {},
   "source": [
    "# Training and Testing"
   ]
  },
  {
   "cell_type": "code",
   "execution_count": 31,
   "metadata": {
    "execution": {
     "iopub.execute_input": "2022-08-18T17:34:31.076512Z",
     "iopub.status.busy": "2022-08-18T17:34:31.076014Z",
     "iopub.status.idle": "2022-08-18T17:34:31.138157Z",
     "shell.execute_reply": "2022-08-18T17:34:31.136718Z",
     "shell.execute_reply.started": "2022-08-18T17:34:31.076474Z"
    }
   },
   "outputs": [],
   "source": [
    "from sklearn.linear_model import LinearRegression\n",
    "reg = LinearRegression().fit(X_train, y_train)"
   ]
  },
  {
   "cell_type": "code",
   "execution_count": 32,
   "metadata": {
    "execution": {
     "iopub.execute_input": "2022-08-18T17:34:31.140998Z",
     "iopub.status.busy": "2022-08-18T17:34:31.139786Z",
     "iopub.status.idle": "2022-08-18T17:34:31.166494Z",
     "shell.execute_reply": "2022-08-18T17:34:31.164914Z",
     "shell.execute_reply.started": "2022-08-18T17:34:31.140952Z"
    }
   },
   "outputs": [
    {
     "data": {
      "text/plain": [
       "0.0005591699806782868"
      ]
     },
     "execution_count": 32,
     "metadata": {},
     "output_type": "execute_result"
    }
   ],
   "source": [
    "reg.score(X_test, y_test)"
   ]
  },
  {
   "cell_type": "markdown",
   "metadata": {},
   "source": [
    "This is awful."
   ]
  },
  {
   "cell_type": "markdown",
   "metadata": {},
   "source": [
    "# Distance"
   ]
  },
  {
   "cell_type": "code",
   "execution_count": 33,
   "metadata": {
    "execution": {
     "iopub.execute_input": "2022-08-18T17:34:31.171208Z",
     "iopub.status.busy": "2022-08-18T17:34:31.168910Z",
     "iopub.status.idle": "2022-08-18T17:34:31.187261Z",
     "shell.execute_reply": "2022-08-18T17:34:31.185373Z",
     "shell.execute_reply.started": "2022-08-18T17:34:31.171146Z"
    }
   },
   "outputs": [],
   "source": [
    "def haversine (lon_1, lon_2, lat_1, lat_2):\n",
    "    lon_1, lon_2, lat_1, lat_2 = map(np.radians, [lon_1, lon_2, lat_1, lat_2])\n",
    "    diff_lon = lon_2 - lon_1\n",
    "    diff_lat = lat_2 - lat_1\n",
    "    km = 2 * 6371 * np.arcsin(np.sqrt(np.sin(diff_lat/2.0)**2 + np.cos(lat_1) * np.cos(lat_2) * np.sin(diff_lon/2.0)**2))\n",
    "    return km"
   ]
  },
  {
   "cell_type": "code",
   "execution_count": 34,
   "metadata": {
    "execution": {
     "iopub.execute_input": "2022-08-18T17:34:31.193269Z",
     "iopub.status.busy": "2022-08-18T17:34:31.191221Z",
     "iopub.status.idle": "2022-08-18T17:34:31.257801Z",
     "shell.execute_reply": "2022-08-18T17:34:31.256356Z",
     "shell.execute_reply.started": "2022-08-18T17:34:31.192829Z"
    }
   },
   "outputs": [],
   "source": [
    "cln_df['distance']= haversine(cln_df['pickup_longitude'],cln_df['dropoff_longitude'],cln_df['pickup_latitude'],cln_df['dropoff_latitude'])"
   ]
  },
  {
   "cell_type": "code",
   "execution_count": 35,
   "metadata": {
    "execution": {
     "iopub.execute_input": "2022-08-18T17:34:31.260957Z",
     "iopub.status.busy": "2022-08-18T17:34:31.259562Z",
     "iopub.status.idle": "2022-08-18T17:34:31.279563Z",
     "shell.execute_reply": "2022-08-18T17:34:31.278365Z",
     "shell.execute_reply.started": "2022-08-18T17:34:31.260898Z"
    }
   },
   "outputs": [
    {
     "data": {
      "text/html": [
       "<div>\n",
       "<style scoped>\n",
       "    .dataframe tbody tr th:only-of-type {\n",
       "        vertical-align: middle;\n",
       "    }\n",
       "\n",
       "    .dataframe tbody tr th {\n",
       "        vertical-align: top;\n",
       "    }\n",
       "\n",
       "    .dataframe thead th {\n",
       "        text-align: right;\n",
       "    }\n",
       "</style>\n",
       "<table border=\"1\" class=\"dataframe\">\n",
       "  <thead>\n",
       "    <tr style=\"text-align: right;\">\n",
       "      <th></th>\n",
       "      <th>fare_amount</th>\n",
       "      <th>pickup_longitude</th>\n",
       "      <th>pickup_latitude</th>\n",
       "      <th>dropoff_longitude</th>\n",
       "      <th>dropoff_latitude</th>\n",
       "      <th>passenger_count</th>\n",
       "      <th>month</th>\n",
       "      <th>hour</th>\n",
       "      <th>distance</th>\n",
       "    </tr>\n",
       "  </thead>\n",
       "  <tbody>\n",
       "    <tr>\n",
       "      <th>0</th>\n",
       "      <td>7.5</td>\n",
       "      <td>-73.999817</td>\n",
       "      <td>40.738354</td>\n",
       "      <td>-73.999512</td>\n",
       "      <td>40.723217</td>\n",
       "      <td>1</td>\n",
       "      <td>5</td>\n",
       "      <td>19</td>\n",
       "      <td>1.683323</td>\n",
       "    </tr>\n",
       "    <tr>\n",
       "      <th>1</th>\n",
       "      <td>7.7</td>\n",
       "      <td>-73.994355</td>\n",
       "      <td>40.728225</td>\n",
       "      <td>-73.994710</td>\n",
       "      <td>40.750325</td>\n",
       "      <td>1</td>\n",
       "      <td>7</td>\n",
       "      <td>20</td>\n",
       "      <td>2.457590</td>\n",
       "    </tr>\n",
       "    <tr>\n",
       "      <th>2</th>\n",
       "      <td>12.9</td>\n",
       "      <td>-74.005043</td>\n",
       "      <td>40.740770</td>\n",
       "      <td>-73.962565</td>\n",
       "      <td>40.772647</td>\n",
       "      <td>1</td>\n",
       "      <td>8</td>\n",
       "      <td>21</td>\n",
       "      <td>5.036377</td>\n",
       "    </tr>\n",
       "    <tr>\n",
       "      <th>3</th>\n",
       "      <td>5.3</td>\n",
       "      <td>-73.976124</td>\n",
       "      <td>40.790844</td>\n",
       "      <td>-73.965316</td>\n",
       "      <td>40.803349</td>\n",
       "      <td>3</td>\n",
       "      <td>6</td>\n",
       "      <td>8</td>\n",
       "      <td>1.661683</td>\n",
       "    </tr>\n",
       "    <tr>\n",
       "      <th>4</th>\n",
       "      <td>16.0</td>\n",
       "      <td>-73.925023</td>\n",
       "      <td>40.744085</td>\n",
       "      <td>-73.973082</td>\n",
       "      <td>40.761247</td>\n",
       "      <td>5</td>\n",
       "      <td>8</td>\n",
       "      <td>17</td>\n",
       "      <td>4.475450</td>\n",
       "    </tr>\n",
       "  </tbody>\n",
       "</table>\n",
       "</div>"
      ],
      "text/plain": [
       "   fare_amount  pickup_longitude  pickup_latitude  dropoff_longitude  \\\n",
       "0          7.5        -73.999817        40.738354         -73.999512   \n",
       "1          7.7        -73.994355        40.728225         -73.994710   \n",
       "2         12.9        -74.005043        40.740770         -73.962565   \n",
       "3          5.3        -73.976124        40.790844         -73.965316   \n",
       "4         16.0        -73.925023        40.744085         -73.973082   \n",
       "\n",
       "   dropoff_latitude  passenger_count  month  hour  distance  \n",
       "0         40.723217                1      5    19  1.683323  \n",
       "1         40.750325                1      7    20  2.457590  \n",
       "2         40.772647                1      8    21  5.036377  \n",
       "3         40.803349                3      6     8  1.661683  \n",
       "4         40.761247                5      8    17  4.475450  "
      ]
     },
     "execution_count": 35,
     "metadata": {},
     "output_type": "execute_result"
    }
   ],
   "source": [
    "cln_df.head()"
   ]
  },
  {
   "cell_type": "code",
   "execution_count": 36,
   "metadata": {
    "execution": {
     "iopub.execute_input": "2022-08-18T17:34:31.281619Z",
     "iopub.status.busy": "2022-08-18T17:34:31.281040Z",
     "iopub.status.idle": "2022-08-18T17:34:31.360748Z",
     "shell.execute_reply": "2022-08-18T17:34:31.359520Z",
     "shell.execute_reply.started": "2022-08-18T17:34:31.281574Z"
    }
   },
   "outputs": [
    {
     "data": {
      "text/html": [
       "<div>\n",
       "<style scoped>\n",
       "    .dataframe tbody tr th:only-of-type {\n",
       "        vertical-align: middle;\n",
       "    }\n",
       "\n",
       "    .dataframe tbody tr th {\n",
       "        vertical-align: top;\n",
       "    }\n",
       "\n",
       "    .dataframe thead th {\n",
       "        text-align: right;\n",
       "    }\n",
       "</style>\n",
       "<table border=\"1\" class=\"dataframe\">\n",
       "  <thead>\n",
       "    <tr style=\"text-align: right;\">\n",
       "      <th></th>\n",
       "      <th>fare_amount</th>\n",
       "      <th>pickup_longitude</th>\n",
       "      <th>pickup_latitude</th>\n",
       "      <th>dropoff_longitude</th>\n",
       "      <th>dropoff_latitude</th>\n",
       "      <th>passenger_count</th>\n",
       "      <th>month</th>\n",
       "      <th>hour</th>\n",
       "      <th>distance</th>\n",
       "    </tr>\n",
       "  </thead>\n",
       "  <tbody>\n",
       "    <tr>\n",
       "      <th>fare_amount</th>\n",
       "      <td>1.000000</td>\n",
       "      <td>0.000368</td>\n",
       "      <td>0.002618</td>\n",
       "      <td>-0.002413</td>\n",
       "      <td>0.000588</td>\n",
       "      <td>0.012876</td>\n",
       "      <td>0.026332</td>\n",
       "      <td>-0.013216</td>\n",
       "      <td>0.002485</td>\n",
       "    </tr>\n",
       "    <tr>\n",
       "      <th>pickup_longitude</th>\n",
       "      <td>0.000368</td>\n",
       "      <td>1.000000</td>\n",
       "      <td>-0.812047</td>\n",
       "      <td>0.835950</td>\n",
       "      <td>-0.850574</td>\n",
       "      <td>-0.000695</td>\n",
       "      <td>-0.003948</td>\n",
       "      <td>0.003543</td>\n",
       "      <td>0.098120</td>\n",
       "    </tr>\n",
       "    <tr>\n",
       "      <th>pickup_latitude</th>\n",
       "      <td>0.002618</td>\n",
       "      <td>-0.812047</td>\n",
       "      <td>1.000000</td>\n",
       "      <td>-0.767103</td>\n",
       "      <td>0.684558</td>\n",
       "      <td>-0.001800</td>\n",
       "      <td>0.004152</td>\n",
       "      <td>-0.004674</td>\n",
       "      <td>-0.049058</td>\n",
       "    </tr>\n",
       "    <tr>\n",
       "      <th>dropoff_longitude</th>\n",
       "      <td>-0.002413</td>\n",
       "      <td>0.835950</td>\n",
       "      <td>-0.767103</td>\n",
       "      <td>1.000000</td>\n",
       "      <td>-0.913949</td>\n",
       "      <td>0.000307</td>\n",
       "      <td>-0.003471</td>\n",
       "      <td>0.004026</td>\n",
       "      <td>0.039346</td>\n",
       "    </tr>\n",
       "    <tr>\n",
       "      <th>dropoff_latitude</th>\n",
       "      <td>0.000588</td>\n",
       "      <td>-0.850574</td>\n",
       "      <td>0.684558</td>\n",
       "      <td>-0.913949</td>\n",
       "      <td>1.000000</td>\n",
       "      <td>-0.001014</td>\n",
       "      <td>0.003508</td>\n",
       "      <td>-0.003166</td>\n",
       "      <td>-0.064900</td>\n",
       "    </tr>\n",
       "    <tr>\n",
       "      <th>passenger_count</th>\n",
       "      <td>0.012876</td>\n",
       "      <td>-0.000695</td>\n",
       "      <td>-0.001800</td>\n",
       "      <td>0.000307</td>\n",
       "      <td>-0.001014</td>\n",
       "      <td>1.000000</td>\n",
       "      <td>0.008802</td>\n",
       "      <td>0.015058</td>\n",
       "      <td>-0.000558</td>\n",
       "    </tr>\n",
       "    <tr>\n",
       "      <th>month</th>\n",
       "      <td>0.026332</td>\n",
       "      <td>-0.003948</td>\n",
       "      <td>0.004152</td>\n",
       "      <td>-0.003471</td>\n",
       "      <td>0.003508</td>\n",
       "      <td>0.008802</td>\n",
       "      <td>1.000000</td>\n",
       "      <td>-0.002697</td>\n",
       "      <td>-0.001406</td>\n",
       "    </tr>\n",
       "    <tr>\n",
       "      <th>hour</th>\n",
       "      <td>-0.013216</td>\n",
       "      <td>0.003543</td>\n",
       "      <td>-0.004674</td>\n",
       "      <td>0.004026</td>\n",
       "      <td>-0.003166</td>\n",
       "      <td>0.015058</td>\n",
       "      <td>-0.002697</td>\n",
       "      <td>1.000000</td>\n",
       "      <td>-0.002082</td>\n",
       "    </tr>\n",
       "    <tr>\n",
       "      <th>distance</th>\n",
       "      <td>0.002485</td>\n",
       "      <td>0.098120</td>\n",
       "      <td>-0.049058</td>\n",
       "      <td>0.039346</td>\n",
       "      <td>-0.064900</td>\n",
       "      <td>-0.000558</td>\n",
       "      <td>-0.001406</td>\n",
       "      <td>-0.002082</td>\n",
       "      <td>1.000000</td>\n",
       "    </tr>\n",
       "  </tbody>\n",
       "</table>\n",
       "</div>"
      ],
      "text/plain": [
       "                   fare_amount  pickup_longitude  pickup_latitude  \\\n",
       "fare_amount           1.000000          0.000368         0.002618   \n",
       "pickup_longitude      0.000368          1.000000        -0.812047   \n",
       "pickup_latitude       0.002618         -0.812047         1.000000   \n",
       "dropoff_longitude    -0.002413          0.835950        -0.767103   \n",
       "dropoff_latitude      0.000588         -0.850574         0.684558   \n",
       "passenger_count       0.012876         -0.000695        -0.001800   \n",
       "month                 0.026332         -0.003948         0.004152   \n",
       "hour                 -0.013216          0.003543        -0.004674   \n",
       "distance              0.002485          0.098120        -0.049058   \n",
       "\n",
       "                   dropoff_longitude  dropoff_latitude  passenger_count  \\\n",
       "fare_amount                -0.002413          0.000588         0.012876   \n",
       "pickup_longitude            0.835950         -0.850574        -0.000695   \n",
       "pickup_latitude            -0.767103          0.684558        -0.001800   \n",
       "dropoff_longitude           1.000000         -0.913949         0.000307   \n",
       "dropoff_latitude           -0.913949          1.000000        -0.001014   \n",
       "passenger_count             0.000307         -0.001014         1.000000   \n",
       "month                      -0.003471          0.003508         0.008802   \n",
       "hour                        0.004026         -0.003166         0.015058   \n",
       "distance                    0.039346         -0.064900        -0.000558   \n",
       "\n",
       "                      month      hour  distance  \n",
       "fare_amount        0.026332 -0.013216  0.002485  \n",
       "pickup_longitude  -0.003948  0.003543  0.098120  \n",
       "pickup_latitude    0.004152 -0.004674 -0.049058  \n",
       "dropoff_longitude -0.003471  0.004026  0.039346  \n",
       "dropoff_latitude   0.003508 -0.003166 -0.064900  \n",
       "passenger_count    0.008802  0.015058 -0.000558  \n",
       "month              1.000000 -0.002697 -0.001406  \n",
       "hour              -0.002697  1.000000 -0.002082  \n",
       "distance          -0.001406 -0.002082  1.000000  "
      ]
     },
     "execution_count": 36,
     "metadata": {},
     "output_type": "execute_result"
    }
   ],
   "source": [
    "correlation_matrix = cln_df.corr()\n",
    "correlation_matrix"
   ]
  },
  {
   "cell_type": "code",
   "execution_count": 37,
   "metadata": {
    "execution": {
     "iopub.execute_input": "2022-08-18T17:34:31.362437Z",
     "iopub.status.busy": "2022-08-18T17:34:31.361888Z",
     "iopub.status.idle": "2022-08-18T17:34:31.688989Z",
     "shell.execute_reply": "2022-08-18T17:34:31.687786Z",
     "shell.execute_reply.started": "2022-08-18T17:34:31.362403Z"
    }
   },
   "outputs": [
    {
     "data": {
      "text/plain": [
       "<AxesSubplot:>"
      ]
     },
     "execution_count": 37,
     "metadata": {},
     "output_type": "execute_result"
    },
    {
     "data": {
      "image/png": "[encoded data removed]",
      "text/plain": [
       "<Figure size 432x288 with 2 Axes>"
      ]
     },
     "metadata": {
      "needs_background": "light"
     },
     "output_type": "display_data"
    }
   ],
   "source": [
    "sns.heatmap(correlation_matrix)"
   ]
  },
  {
   "cell_type": "code",
   "execution_count": 38,
   "metadata": {
    "execution": {
     "iopub.execute_input": "2022-08-18T17:34:31.694376Z",
     "iopub.status.busy": "2022-08-18T17:34:31.690571Z",
     "iopub.status.idle": "2022-08-18T17:34:32.189410Z",
     "shell.execute_reply": "2022-08-18T17:34:32.187040Z",
     "shell.execute_reply.started": "2022-08-18T17:34:31.694335Z"
    }
   },
   "outputs": [
    {
     "data": {
      "text/plain": [
       "Text(0, 0.5, 'fare_amount')"
      ]
     },
     "execution_count": 38,
     "metadata": {},
     "output_type": "execute_result"
    },
    {
     "data": {
      "image/png": "[encoded data removed]",
      "text/plain": [
       "<Figure size 432x288 with 1 Axes>"
      ]
     },
     "metadata": {
      "needs_background": "light"
     },
     "output_type": "display_data"
    }
   ],
   "source": [
    "import matplotlib.pyplot as plt\n",
    "plt.scatter(cln_df['distance'], cln_df['fare_amount'])\n",
    "plt.xlabel(\"distance\")\n",
    "plt.ylabel(\"fare_amount\")"
   ]
  },
  {
   "cell_type": "code",
   "execution_count": 39,
   "metadata": {
    "execution": {
     "iopub.execute_input": "2022-08-18T17:34:32.191408Z",
     "iopub.status.busy": "2022-08-18T17:34:32.190912Z",
     "iopub.status.idle": "2022-08-18T17:34:32.369646Z",
     "shell.execute_reply": "2022-08-18T17:34:32.368501Z",
     "shell.execute_reply.started": "2022-08-18T17:34:32.191363Z"
    }
   },
   "outputs": [
    {
     "name": "stderr",
     "output_type": "stream",
     "text": [
      "C:\\Users\\ahdeo\\anaconda3\\lib\\site-packages\\seaborn\\_decorators.py:36: FutureWarning: Pass the following variable as a keyword arg: x. From version 0.12, the only valid positional argument will be `data`, and passing other arguments without an explicit keyword will result in an error or misinterpretation.\n",
      "  warnings.warn(\n"
     ]
    },
    {
     "name": "stdout",
     "output_type": "stream",
     "text": [
      "[6.46348727e+00 6.46367005e+00 6.46368672e+00 ... 8.78289861e+03\n",
      " 1.03215077e+04 1.64092391e+04]\n",
      "8293\n"
     ]
    },
    {
     "data": {
      "image/png": "[encoded data removed]",
      "text/plain": [
       "<Figure size 432x288 with 1 Axes>"
      ]
     },
     "metadata": {
      "needs_background": "light"
     },
     "output_type": "display_data"
    }
   ],
   "source": [
    "#Outliers for Distance \n",
    "distance_outliers = boxplot_stats(cln_df.distance)[0]['fliers']\n",
    "distance_outliers.sort()\n",
    "sns.boxplot(cln_df['distance'])\n",
    "print(distance_outliers)\n",
    "print(len(distance_outliers))"
   ]
  },
  {
   "cell_type": "code",
   "execution_count": 40,
   "metadata": {
    "execution": {
     "iopub.execute_input": "2022-08-18T17:34:32.372181Z",
     "iopub.status.busy": "2022-08-18T17:34:32.371160Z",
     "iopub.status.idle": "2022-08-18T17:34:32.397612Z",
     "shell.execute_reply": "2022-08-18T17:34:32.396357Z",
     "shell.execute_reply.started": "2022-08-18T17:34:32.372147Z"
    }
   },
   "outputs": [
    {
     "data": {
      "text/plain": [
       "(177297, 9)"
      ]
     },
     "execution_count": 40,
     "metadata": {},
     "output_type": "execute_result"
    }
   ],
   "source": [
    "filter = (cln_df['distance']<=50) & (cln_df['distance']>0)\n",
    "cln_df = cln_df.loc[filter]\n",
    "cln_df.shape"
   ]
  },
  {
   "cell_type": "code",
   "execution_count": 41,
   "metadata": {
    "execution": {
     "iopub.execute_input": "2022-08-18T17:34:32.405175Z",
     "iopub.status.busy": "2022-08-18T17:34:32.404784Z",
     "iopub.status.idle": "2022-08-18T17:34:32.850906Z",
     "shell.execute_reply": "2022-08-18T17:34:32.849710Z",
     "shell.execute_reply.started": "2022-08-18T17:34:32.405142Z"
    }
   },
   "outputs": [
    {
     "data": {
      "text/plain": [
       "Text(0, 0.5, 'fare_amount')"
      ]
     },
     "execution_count": 41,
     "metadata": {},
     "output_type": "execute_result"
    },
    {
     "data": {
      "image/png": "[encoded data removed]",
      "text/plain": [
       "<Figure size 432x288 with 1 Axes>"
      ]
     },
     "metadata": {
      "needs_background": "light"
     },
     "output_type": "display_data"
    }
   ],
   "source": [
    "plt.scatter(cln_df['distance'], cln_df['fare_amount'])\n",
    "plt.xlabel(\"distance\")\n",
    "plt.ylabel(\"fare_amount\")"
   ]
  },
  {
   "cell_type": "code",
   "execution_count": 42,
   "metadata": {
    "execution": {
     "iopub.execute_input": "2022-08-18T17:34:32.853161Z",
     "iopub.status.busy": "2022-08-18T17:34:32.852365Z",
     "iopub.status.idle": "2022-08-18T17:34:32.918541Z",
     "shell.execute_reply": "2022-08-18T17:34:32.917699Z",
     "shell.execute_reply.started": "2022-08-18T17:34:32.853114Z"
    }
   },
   "outputs": [
    {
     "data": {
      "text/html": [
       "<div>\n",
       "<style scoped>\n",
       "    .dataframe tbody tr th:only-of-type {\n",
       "        vertical-align: middle;\n",
       "    }\n",
       "\n",
       "    .dataframe tbody tr th {\n",
       "        vertical-align: top;\n",
       "    }\n",
       "\n",
       "    .dataframe thead th {\n",
       "        text-align: right;\n",
       "    }\n",
       "</style>\n",
       "<table border=\"1\" class=\"dataframe\">\n",
       "  <thead>\n",
       "    <tr style=\"text-align: right;\">\n",
       "      <th></th>\n",
       "      <th>fare_amount</th>\n",
       "      <th>pickup_longitude</th>\n",
       "      <th>pickup_latitude</th>\n",
       "      <th>dropoff_longitude</th>\n",
       "      <th>dropoff_latitude</th>\n",
       "      <th>passenger_count</th>\n",
       "      <th>month</th>\n",
       "      <th>hour</th>\n",
       "      <th>distance</th>\n",
       "    </tr>\n",
       "  </thead>\n",
       "  <tbody>\n",
       "    <tr>\n",
       "      <th>fare_amount</th>\n",
       "      <td>1.000000</td>\n",
       "      <td>0.001213</td>\n",
       "      <td>-0.002011</td>\n",
       "      <td>0.002064</td>\n",
       "      <td>-0.002233</td>\n",
       "      <td>0.013791</td>\n",
       "      <td>0.026868</td>\n",
       "      <td>-0.013068</td>\n",
       "      <td>0.802780</td>\n",
       "    </tr>\n",
       "    <tr>\n",
       "      <th>pickup_longitude</th>\n",
       "      <td>0.001213</td>\n",
       "      <td>1.000000</td>\n",
       "      <td>-0.939822</td>\n",
       "      <td>0.999967</td>\n",
       "      <td>-0.993719</td>\n",
       "      <td>0.009919</td>\n",
       "      <td>-0.007060</td>\n",
       "      <td>0.002745</td>\n",
       "      <td>-0.010043</td>\n",
       "    </tr>\n",
       "    <tr>\n",
       "      <th>pickup_latitude</th>\n",
       "      <td>-0.002011</td>\n",
       "      <td>-0.939822</td>\n",
       "      <td>1.000000</td>\n",
       "      <td>-0.939845</td>\n",
       "      <td>0.945731</td>\n",
       "      <td>-0.010081</td>\n",
       "      <td>0.007026</td>\n",
       "      <td>-0.002997</td>\n",
       "      <td>0.021863</td>\n",
       "    </tr>\n",
       "    <tr>\n",
       "      <th>dropoff_longitude</th>\n",
       "      <td>0.002064</td>\n",
       "      <td>0.999967</td>\n",
       "      <td>-0.939845</td>\n",
       "      <td>1.000000</td>\n",
       "      <td>-0.993697</td>\n",
       "      <td>0.009941</td>\n",
       "      <td>-0.007068</td>\n",
       "      <td>0.002453</td>\n",
       "      <td>-0.009034</td>\n",
       "    </tr>\n",
       "    <tr>\n",
       "      <th>dropoff_latitude</th>\n",
       "      <td>-0.002233</td>\n",
       "      <td>-0.993719</td>\n",
       "      <td>0.945731</td>\n",
       "      <td>-0.993697</td>\n",
       "      <td>1.000000</td>\n",
       "      <td>-0.010204</td>\n",
       "      <td>0.007477</td>\n",
       "      <td>-0.002174</td>\n",
       "      <td>0.009246</td>\n",
       "    </tr>\n",
       "    <tr>\n",
       "      <th>passenger_count</th>\n",
       "      <td>0.013791</td>\n",
       "      <td>0.009919</td>\n",
       "      <td>-0.010081</td>\n",
       "      <td>0.009941</td>\n",
       "      <td>-0.010204</td>\n",
       "      <td>1.000000</td>\n",
       "      <td>0.008972</td>\n",
       "      <td>0.015403</td>\n",
       "      <td>0.001564</td>\n",
       "    </tr>\n",
       "    <tr>\n",
       "      <th>month</th>\n",
       "      <td>0.026868</td>\n",
       "      <td>-0.007060</td>\n",
       "      <td>0.007026</td>\n",
       "      <td>-0.007068</td>\n",
       "      <td>0.007477</td>\n",
       "      <td>0.008972</td>\n",
       "      <td>1.000000</td>\n",
       "      <td>-0.002962</td>\n",
       "      <td>0.005217</td>\n",
       "    </tr>\n",
       "    <tr>\n",
       "      <th>hour</th>\n",
       "      <td>-0.013068</td>\n",
       "      <td>0.002745</td>\n",
       "      <td>-0.002997</td>\n",
       "      <td>0.002453</td>\n",
       "      <td>-0.002174</td>\n",
       "      <td>0.015403</td>\n",
       "      <td>-0.002962</td>\n",
       "      <td>1.000000</td>\n",
       "      <td>-0.037489</td>\n",
       "    </tr>\n",
       "    <tr>\n",
       "      <th>distance</th>\n",
       "      <td>0.802780</td>\n",
       "      <td>-0.010043</td>\n",
       "      <td>0.021863</td>\n",
       "      <td>-0.009034</td>\n",
       "      <td>0.009246</td>\n",
       "      <td>0.001564</td>\n",
       "      <td>0.005217</td>\n",
       "      <td>-0.037489</td>\n",
       "      <td>1.000000</td>\n",
       "    </tr>\n",
       "  </tbody>\n",
       "</table>\n",
       "</div>"
      ],
      "text/plain": [
       "                   fare_amount  pickup_longitude  pickup_latitude  \\\n",
       "fare_amount           1.000000          0.001213        -0.002011   \n",
       "pickup_longitude      0.001213          1.000000        -0.939822   \n",
       "pickup_latitude      -0.002011         -0.939822         1.000000   \n",
       "dropoff_longitude     0.002064          0.999967        -0.939845   \n",
       "dropoff_latitude     -0.002233         -0.993719         0.945731   \n",
       "passenger_count       0.013791          0.009919        -0.010081   \n",
       "month                 0.026868         -0.007060         0.007026   \n",
       "hour                 -0.013068          0.002745        -0.002997   \n",
       "distance              0.802780         -0.010043         0.021863   \n",
       "\n",
       "                   dropoff_longitude  dropoff_latitude  passenger_count  \\\n",
       "fare_amount                 0.002064         -0.002233         0.013791   \n",
       "pickup_longitude            0.999967         -0.993719         0.009919   \n",
       "pickup_latitude            -0.939845          0.945731        -0.010081   \n",
       "dropoff_longitude           1.000000         -0.993697         0.009941   \n",
       "dropoff_latitude           -0.993697          1.000000        -0.010204   \n",
       "passenger_count             0.009941         -0.010204         1.000000   \n",
       "month                      -0.007068          0.007477         0.008972   \n",
       "hour                        0.002453         -0.002174         0.015403   \n",
       "distance                   -0.009034          0.009246         0.001564   \n",
       "\n",
       "                      month      hour  distance  \n",
       "fare_amount        0.026868 -0.013068  0.802780  \n",
       "pickup_longitude  -0.007060  0.002745 -0.010043  \n",
       "pickup_latitude    0.007026 -0.002997  0.021863  \n",
       "dropoff_longitude -0.007068  0.002453 -0.009034  \n",
       "dropoff_latitude   0.007477 -0.002174  0.009246  \n",
       "passenger_count    0.008972  0.015403  0.001564  \n",
       "month              1.000000 -0.002962  0.005217  \n",
       "hour              -0.002962  1.000000 -0.037489  \n",
       "distance           0.005217 -0.037489  1.000000  "
      ]
     },
     "execution_count": 42,
     "metadata": {},
     "output_type": "execute_result"
    }
   ],
   "source": [
    "correlation_matrix = cln_df.corr()\n",
    "correlation_matrix"
   ]
  },
  {
   "cell_type": "code",
   "execution_count": 43,
   "metadata": {
    "execution": {
     "iopub.execute_input": "2022-08-18T17:34:32.920519Z",
     "iopub.status.busy": "2022-08-18T17:34:32.919582Z",
     "iopub.status.idle": "2022-08-18T17:34:33.206418Z",
     "shell.execute_reply": "2022-08-18T17:34:33.205131Z",
     "shell.execute_reply.started": "2022-08-18T17:34:32.920486Z"
    }
   },
   "outputs": [
    {
     "data": {
      "text/plain": [
       "<AxesSubplot:>"
      ]
     },
     "execution_count": 43,
     "metadata": {},
     "output_type": "execute_result"
    },
    {
     "data": {
      "image/png": "[encoded data removed]",
      "text/plain": [
       "<Figure size 432x288 with 2 Axes>"
      ]
     },
     "metadata": {
      "needs_background": "light"
     },
     "output_type": "display_data"
    }
   ],
   "source": [
    "sns.heatmap(correlation_matrix)"
   ]
  },
  {
   "cell_type": "code",
   "execution_count": null,
   "metadata": {},
   "outputs": [],
   "source": []
  },
  {
   "cell_type": "markdown",
   "metadata": {},
   "source": [
    "# Splitting and Training again"
   ]
  },
  {
   "cell_type": "code",
   "execution_count": 44,
   "metadata": {
    "execution": {
     "iopub.execute_input": "2022-08-18T17:35:22.083928Z",
     "iopub.status.busy": "2022-08-18T17:35:22.083256Z",
     "iopub.status.idle": "2022-08-18T17:35:22.093781Z",
     "shell.execute_reply": "2022-08-18T17:35:22.092484Z",
     "shell.execute_reply.started": "2022-08-18T17:35:22.083882Z"
    }
   },
   "outputs": [
    {
     "name": "stdout",
     "output_type": "stream",
     "text": [
      "(177297, 8) (177297,)\n"
     ]
    }
   ],
   "source": [
    "X = cln_df.iloc[:, 1:]\n",
    "y = cln_df.iloc[:, 0]\n",
    "print(X.shape, y.shape)"
   ]
  },
  {
   "cell_type": "code",
   "execution_count": 45,
   "metadata": {
    "execution": {
     "iopub.execute_input": "2022-08-18T18:05:06.746252Z",
     "iopub.status.busy": "2022-08-18T18:05:06.744787Z",
     "iopub.status.idle": "2022-08-18T18:05:06.782439Z",
     "shell.execute_reply": "2022-08-18T18:05:06.781144Z",
     "shell.execute_reply.started": "2022-08-18T18:05:06.746195Z"
    }
   },
   "outputs": [
    {
     "name": "stdout",
     "output_type": "stream",
     "text": [
      "(150702, 8) (150702,) (26595, 8) (26595,)\n"
     ]
    }
   ],
   "source": [
    "from sklearn.model_selection import train_test_split\n",
    "X_train, X_test, y_train, y_test = train_test_split(X, y, test_size=0.15, random_state=42)\n",
    "print(X_train.shape, y_train.shape, X_test.shape, y_test.shape)"
   ]
  },
  {
   "cell_type": "code",
   "execution_count": 46,
   "metadata": {
    "execution": {
     "iopub.execute_input": "2022-08-18T18:05:22.158211Z",
     "iopub.status.busy": "2022-08-18T18:05:22.157783Z",
     "iopub.status.idle": "2022-08-18T18:05:22.201540Z",
     "shell.execute_reply": "2022-08-18T18:05:22.200535Z",
     "shell.execute_reply.started": "2022-08-18T18:05:22.158177Z"
    }
   },
   "outputs": [],
   "source": [
    "from sklearn.linear_model import LinearRegression\n",
    "reg = LinearRegression().fit(X_train, y_train)"
   ]
  },
  {
   "cell_type": "code",
   "execution_count": 47,
   "metadata": {
    "execution": {
     "iopub.execute_input": "2022-08-18T18:05:33.367728Z",
     "iopub.status.busy": "2022-08-18T18:05:33.367317Z",
     "iopub.status.idle": "2022-08-18T18:05:33.380462Z",
     "shell.execute_reply": "2022-08-18T18:05:33.378720Z",
     "shell.execute_reply.started": "2022-08-18T18:05:33.367694Z"
    }
   },
   "outputs": [
    {
     "data": {
      "text/plain": [
       "0.6422766551294354"
      ]
     },
     "execution_count": 47,
     "metadata": {},
     "output_type": "execute_result"
    }
   ],
   "source": [
    "reg.score(X_test, y_test)"
   ]
  },
  {
   "cell_type": "markdown",
   "metadata": {},
   "source": [
    "That's a decent performance."
   ]
  }
 ],
 "metadata": {
  "kernelspec": {
   "display_name": "Python 3",
   "language": "python",
   "name": "python3"
  },
  "language_info": {
   "codemirror_mode": {
    "name": "ipython",
    "version": 3
   },
   "file_extension": ".py",
   "mimetype": "text/x-python",
   "name": "python",
   "nbconvert_exporter": "python",
   "pygments_lexer": "ipython3",
   "version": "3.8.5"
  }
 },
 "nbformat": 4,
 "nbformat_minor": 4
}
